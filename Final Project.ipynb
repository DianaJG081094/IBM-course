{
    "cells": [
        {
            "metadata": {
                "collapsed": true
            },
            "cell_type": "markdown",
            "source": "# Introduction/Business Problem"
        },
        {
            "metadata": {},
            "cell_type": "markdown",
            "source": "As everyone knows, today the world is going through a hard situation. The virus, COVID-19 has changed everyone's lives in different ways. That is why I chose this subject because I am interested to go through some data by myself and see what is happening around the world. However, to give the project an appropriate definition I will go for:\n\nColombia is one of the last countries to get the virus, the president is interested to know how the virus has been affecting the most important and the most affected countries to understand how the virus has grown there. As Korea had shown a big number of confirmed cases, and they also have been showing a decreasing number of cases in the last days, the president will take this Country as an example. So, he would like to understand what they have been doing so, he can establish some of their strategies in Colombia to avoid the massive increase of people sick by COVID 19. This is important because Colombia does not have a strong medical service, so to avoid the major number of infections is a priority.\n\nOn the other hand, we will use the opposite example of Korea: USA. This country has shown an increasing number of confirmed cases. So it will be interesting to compare the strategies of each country to give a complete idea to the president of what is the best decision to take given the situation."
        },
        {
            "metadata": {},
            "cell_type": "markdown",
            "source": "# Data"
        },
        {
            "metadata": {},
            "cell_type": "markdown",
            "source": "\nFor this project, I will be using the data provide by HDX(The humanitarian data exchange). I will be using data of the confirmed cases of COVID-19 around the world up to the actual date. As first step, I will take the data of Korea, Colombia and US to analyze the behaviour of the virus in each country. As it is well know, quarentine have been the solution that have been showed the best results. However there are differents strategies around the world to close differents social places. Here I will be using Foursquare to compare the most visited places in Korea,Colombia and US to se how the country are similar and if the strategies that Korea had applied can be applied in Colombia. On the other hand it might be also interest to see how US have been managing their most popular places and contrast it with Korea so we can se if there is a possible social area that have not been closed and it could be a red point of infections. \nClustering the favorites places of each country we can see if there is a possibility to apply the strategy applied for Korea and to see if there is some place in common that Korea has closed and might not be close by US and it could show us the focus of a possible point contagion. So the president will see the necessity to close it so Colombia can go closer to the Korea results and avoid the increment numbers of cases as US.\n"
        },
        {
            "metadata": {},
            "cell_type": "code",
            "source": "",
            "execution_count": null,
            "outputs": []
        }
    ],
    "metadata": {
        "kernelspec": {
            "name": "python3",
            "display_name": "Python 3.6",
            "language": "python"
        },
        "language_info": {
            "name": "python",
            "version": "3.6.9",
            "mimetype": "text/x-python",
            "codemirror_mode": {
                "name": "ipython",
                "version": 3
            },
            "pygments_lexer": "ipython3",
            "nbconvert_exporter": "python",
            "file_extension": ".py"
        }
    },
    "nbformat": 4,
    "nbformat_minor": 1
}